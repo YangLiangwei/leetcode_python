{
 "cells": [
  {
   "cell_type": "code",
   "execution_count": null,
   "metadata": {
    "collapsed": true
   },
   "outputs": [],
   "source": [
    "class Solution(object):\n",
    "    def rangeSumBST(self, root, L, R):\n",
    "        \"\"\"\n",
    "        :type root: TreeNode\n",
    "        :type L: int\n",
    "        :type R: int\n",
    "        :rtype: int\n",
    "        \"\"\"\n",
    "        if not root:\n",
    "            return 0\n",
    "        if L <= root.val <= R:\n",
    "            return root.val + self.rangeSumBST(root.left, L ,R) + self.rangeSumBST(root.right, L, R)\n",
    "        elif root.val > R:\n",
    "            return self.rangeSumBST(root.left, L, R)\n",
    "        else:\n",
    "            return self.rangeSumBST(root.right, L, R)"
   ]
  }
 ],
 "metadata": {
  "kernelspec": {
   "display_name": "Python 3",
   "language": "python",
   "name": "python3"
  },
  "language_info": {
   "codemirror_mode": {
    "name": "ipython",
    "version": 3
   },
   "file_extension": ".py",
   "mimetype": "text/x-python",
   "name": "python",
   "nbconvert_exporter": "python",
   "pygments_lexer": "ipython3",
   "version": "3.6.1"
  }
 },
 "nbformat": 4,
 "nbformat_minor": 2
}
