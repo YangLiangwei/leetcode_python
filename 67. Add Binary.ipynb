{
 "cells": [
  {
   "cell_type": "code",
   "execution_count": 37,
   "metadata": {},
   "outputs": [
    {
     "name": "stdout",
     "output_type": "stream",
     "text": [
      "110\n",
      "110\n",
      "0\n"
     ]
    },
    {
     "data": {
      "text/plain": [
       "'110110'"
      ]
     },
     "execution_count": 37,
     "metadata": {},
     "output_type": "execute_result"
    }
   ],
   "source": [
    "class Solution(object):\n",
    "    def addBinary(self, a, b):\n",
    "        \"\"\"\n",
    "        :type a: str\n",
    "        :type b: str\n",
    "        :rtype: str\n",
    "        \"\"\"\n",
    "        result = ''\n",
    "        add = 0\n",
    "        i = -1\n",
    "        j = -1\n",
    "        while i > -len(a) - 1 and j > -len(b) - 1:\n",
    "            if a[i] == '1' and b[j] == '1':\n",
    "                if add == 1:\n",
    "                    result = '1' + result\n",
    "                    \n",
    "                else:\n",
    "                    result = '0' + result\n",
    "                add = 1\n",
    "                i -= 1\n",
    "                j -= 1\n",
    "            elif a[i] == '0' and b [j] == '0':\n",
    "                if add == 1:\n",
    "                    result = '1' + result\n",
    "                else:\n",
    "                    result = '0' + result\n",
    "                add = 0\n",
    "                i -= 1\n",
    "                j -= 1\n",
    "            else:\n",
    "                if add == 1:\n",
    "                    result = '0' + result\n",
    "                    add = 1\n",
    "                else:\n",
    "                    result = '1' + result\n",
    "                    add = 0\n",
    "            \n",
    "                i -= 1\n",
    "                j -= 1\n",
    "        if i != -len(a) - 1:\n",
    "            remains = a[: len(a) + i + 1]\n",
    "        else:\n",
    "            remains = b[: len(b) + j + 1]\n",
    "        for i in range(1, len(remains) + 1):\n",
    "            if remains[-i] == '1' and add == 1:\n",
    "                result = '0' + result\n",
    "                add = 1\n",
    "            elif remains[-i] == '0' and add == 1:\n",
    "                result = '1' + result\n",
    "                add = 0\n",
    "            else:\n",
    "                result = remains[-i] + result\n",
    "        if add == 1:\n",
    "            result = '1' + result\n",
    "        return result\n",
    "    "
   ]
  },
  {
   "cell_type": "code",
   "execution_count": 9,
   "metadata": {},
   "outputs": [
    {
     "ename": "TypeError",
     "evalue": "'str' object does not support item assignment",
     "output_type": "error",
     "traceback": [
      "\u001b[1;31m---------------------------------------------------------------------------\u001b[0m",
      "\u001b[1;31mTypeError\u001b[0m                                 Traceback (most recent call last)",
      "\u001b[1;32m<ipython-input-9-4ba0739a3fc1>\u001b[0m in \u001b[0;36m<module>\u001b[1;34m()\u001b[0m\n\u001b[0;32m      1\u001b[0m \u001b[0ma\u001b[0m \u001b[1;33m=\u001b[0m \u001b[1;34m'abc'\u001b[0m\u001b[1;33m\u001b[0m\u001b[0m\n\u001b[1;32m----> 2\u001b[1;33m \u001b[0ma\u001b[0m\u001b[1;33m[\u001b[0m\u001b[1;36m0\u001b[0m\u001b[1;33m]\u001b[0m \u001b[1;33m=\u001b[0m \u001b[1;36m1\u001b[0m\u001b[1;33m\u001b[0m\u001b[0m\n\u001b[0m\u001b[0;32m      3\u001b[0m \u001b[0ma\u001b[0m\u001b[1;33m\u001b[0m\u001b[0m\n",
      "\u001b[1;31mTypeError\u001b[0m: 'str' object does not support item assignment"
     ]
    }
   ],
   "source": [
    "a = 'abc'\n",
    "a[0] = 1\n",
    "a"
   ]
  }
 ],
 "metadata": {
  "kernelspec": {
   "display_name": "Python 3",
   "language": "python",
   "name": "python3"
  },
  "language_info": {
   "codemirror_mode": {
    "name": "ipython",
    "version": 3
   },
   "file_extension": ".py",
   "mimetype": "text/x-python",
   "name": "python",
   "nbconvert_exporter": "python",
   "pygments_lexer": "ipython3",
   "version": "3.6.1"
  }
 },
 "nbformat": 4,
 "nbformat_minor": 2
}
