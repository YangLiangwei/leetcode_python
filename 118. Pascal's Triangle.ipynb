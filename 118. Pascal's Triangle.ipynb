{
 "cells": [
  {
   "cell_type": "code",
   "execution_count": null,
   "metadata": {
    "collapsed": true
   },
   "outputs": [],
   "source": [
    "class Solution:\n",
    "    def generate(self, numRows: int) -> List[List[int]]:\n",
    "        result = []\n",
    "        if numRows == 0:\n",
    "            return result\n",
    "        \n",
    "\n",
    "        ls = [1]\n",
    "        result.append(ls)\n",
    "        if numRows == 1:\n",
    "            return result\n",
    "        for i in range(1, numRows):\n",
    "            ls = [1]\n",
    "            for j in range(len(result[-1]) - 1):\n",
    "                ls.append(result[-1][j] + result[-1][j + 1])\n",
    "            ls.append(1)\n",
    "            result.append(ls)\n",
    "        return result"
   ]
  }
 ],
 "metadata": {
  "kernelspec": {
   "display_name": "Python 3",
   "language": "python",
   "name": "python3"
  },
  "language_info": {
   "codemirror_mode": {
    "name": "ipython",
    "version": 3
   },
   "file_extension": ".py",
   "mimetype": "text/x-python",
   "name": "python",
   "nbconvert_exporter": "python",
   "pygments_lexer": "ipython3",
   "version": "3.6.8"
  }
 },
 "nbformat": 4,
 "nbformat_minor": 2
}
