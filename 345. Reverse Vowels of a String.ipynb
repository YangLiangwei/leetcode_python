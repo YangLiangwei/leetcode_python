{
 "cells": [
  {
   "cell_type": "code",
   "execution_count": null,
   "metadata": {
    "collapsed": true
   },
   "outputs": [],
   "source": [
    "class Solution:\n",
    "    def reverseVowels(self, s: str) -> str:\n",
    "        s = [i for i in s]\n",
    "        Start = 0\n",
    "        End = len(s) - 1\n",
    "        vowels = ['a', 'e', 'i', 'o', 'u','A','E','I','O','U']\n",
    "        while Start < End:\n",
    "            while s[Start] not in vowels:\n",
    "                Start += 1\n",
    "                if Start > End:\n",
    "                    break\n",
    "            while s[End] not in vowels:\n",
    "                End -= 1\n",
    "                if Start > End:\n",
    "                    break\n",
    "            if Start > End:\n",
    "                break\n",
    "                \n",
    "            if Start < End:\n",
    "                temporary = s[Start]\n",
    "                s[Start] = s[End]\n",
    "                s[End] = temporary\n",
    "                Start += 1\n",
    "                End -= 1\n",
    "           \n",
    "        return ''.join(s)"
   ]
  }
 ],
 "metadata": {
  "kernelspec": {
   "display_name": "Python 3",
   "language": "python",
   "name": "python3"
  },
  "language_info": {
   "codemirror_mode": {
    "name": "ipython",
    "version": 3
   },
   "file_extension": ".py",
   "mimetype": "text/x-python",
   "name": "python",
   "nbconvert_exporter": "python",
   "pygments_lexer": "ipython3",
   "version": "3.6.8"
  }
 },
 "nbformat": 4,
 "nbformat_minor": 2
}
