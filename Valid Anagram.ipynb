{
 "cells": [
  {
   "cell_type": "code",
   "execution_count": null,
   "metadata": {
    "collapsed": true
   },
   "outputs": [],
   "source": [
    "class Solution:\n",
    "    def isAnagram(self, s: str, t: str) -> bool:\n",
    "        dic_s = {}\n",
    "        dic_t = {}\n",
    "        for i in s:\n",
    "            try:\n",
    "                dic_s[i] += 1\n",
    "            except:\n",
    "                dic_s[i] = 1\n",
    "        for i in t:\n",
    "            try:\n",
    "                dic_t[i] += 1\n",
    "            except:\n",
    "                dic_t[i] = 1\n",
    "        if len(dic_s) != len(dic_t):\n",
    "            return False\n",
    "        print(dic_s)\n",
    "        print(dic_t)\n",
    "        for key in dic_s:\n",
    "            print(key)\n",
    "            try:\n",
    "                if dic_t[key] != dic_s[key]:\n",
    "                    return False\n",
    "            except:\n",
    "                return False\n",
    "        return True"
   ]
  }
 ],
 "metadata": {
  "kernelspec": {
   "display_name": "Python 3",
   "language": "python",
   "name": "python3"
  },
  "language_info": {
   "codemirror_mode": {
    "name": "ipython",
    "version": 3
   },
   "file_extension": ".py",
   "mimetype": "text/x-python",
   "name": "python",
   "nbconvert_exporter": "python",
   "pygments_lexer": "ipython3",
   "version": "3.6.8"
  }
 },
 "nbformat": 4,
 "nbformat_minor": 2
}
