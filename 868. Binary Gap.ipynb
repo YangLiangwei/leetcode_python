{
 "cells": [
  {
   "cell_type": "code",
   "execution_count": 11,
   "metadata": {},
   "outputs": [
    {
     "data": {
      "text/plain": [
       "0"
      ]
     },
     "execution_count": 11,
     "metadata": {},
     "output_type": "execute_result"
    }
   ],
   "source": [
    "class Solution(object):\n",
    "    def binaryGap(self, N):\n",
    "        \"\"\"\n",
    "        :type N: int\n",
    "        :rtype: int\n",
    "        \"\"\"\n",
    "        if not N &(N - 1):\n",
    "            return 0\n",
    "        \n",
    "        result = 0\n",
    "        while N:\n",
    "            if N & 1 == 0:\n",
    "                N = N // 2\n",
    "            else:\n",
    "                break\n",
    "        count = 0\n",
    "        while N:\n",
    "            if N & 1 == 1:\n",
    "                result = max(result, count)\n",
    "                count = 0\n",
    "                N = N // 2\n",
    "            else:\n",
    "                count += 1\n",
    "                N = N // 2\n",
    "        return result + 1"
   ]
  }
 ],
 "metadata": {
  "kernelspec": {
   "display_name": "Python 3",
   "language": "python",
   "name": "python3"
  },
  "language_info": {
   "codemirror_mode": {
    "name": "ipython",
    "version": 3
   },
   "file_extension": ".py",
   "mimetype": "text/x-python",
   "name": "python",
   "nbconvert_exporter": "python",
   "pygments_lexer": "ipython3",
   "version": "3.6.1"
  }
 },
 "nbformat": 4,
 "nbformat_minor": 2
}
