{
 "cells": [
  {
   "cell_type": "code",
   "execution_count": null,
   "metadata": {
    "collapsed": true
   },
   "outputs": [],
   "source": [
    "class Solution:\n",
    "    def fizzBuzz(self, n: int) -> List[str]:\n",
    "        ls = []\n",
    "        for i in range(1, n + 1):\n",
    "            if i % 15 == 0:\n",
    "                ls.append('FizzBuzz')\n",
    "            elif i % 3 == 0:\n",
    "                ls.append('Fizz')\n",
    "            elif i % 5 == 0:\n",
    "                ls.append('Buzz')\n",
    "            else:\n",
    "                ls.append(str(i))\n",
    "        return ls"
   ]
  }
 ],
 "metadata": {
  "kernelspec": {
   "display_name": "Python 3",
   "language": "python",
   "name": "python3"
  },
  "language_info": {
   "codemirror_mode": {
    "name": "ipython",
    "version": 3
   },
   "file_extension": ".py",
   "mimetype": "text/x-python",
   "name": "python",
   "nbconvert_exporter": "python",
   "pygments_lexer": "ipython3",
   "version": "3.6.8"
  }
 },
 "nbformat": 4,
 "nbformat_minor": 2
}
