{
 "cells": [
  {
   "cell_type": "code",
   "execution_count": 13,
   "metadata": {},
   "outputs": [
    {
     "name": "stdout",
     "output_type": "stream",
     "text": [
      "0\n",
      "2\n"
     ]
    },
    {
     "data": {
      "text/plain": [
       "3"
      ]
     },
     "execution_count": 13,
     "metadata": {},
     "output_type": "execute_result"
    }
   ],
   "source": [
    "class Solution(object):\n",
    "    def findPoisonedDuration(self, timeSeries, duration):\n",
    "        \"\"\"\n",
    "        :type timeSeries: List[int]\n",
    "        :type duration: int\n",
    "        :rtype: int\n",
    "        \"\"\"\n",
    "        if len(timeSeries) == 0:\n",
    "            return 0\n",
    "        if len(timeSeries) == 1:\n",
    "            return duration\n",
    "        length = 0\n",
    "        i = 0\n",
    "        while i < len(timeSeries) - 1:\n",
    "            print(i)\n",
    "            print(timeSeries[i + 1])\n",
    "            now = timeSeries[i]\n",
    "            while i < len(timeSeries) - 1:\n",
    "                if timeSeries[i + 1] <= timeSeries[i] + duration and i < len(timeSeries) - 1:\n",
    "                    i += 1\n",
    "                else:\n",
    "                    break\n",
    "            length += (timeSeries[i] + duration - now)\n",
    "            i += 1\n",
    "        if timeSeries[-1] > timeSeries[-2] + duration:\n",
    "            length += duration\n",
    "        return length\n",
    "so = Solution()\n",
    "so.findPoisonedDuration([1,2],2)"
   ]
  }
 ],
 "metadata": {
  "kernelspec": {
   "display_name": "Python 3",
   "language": "python",
   "name": "python3"
  },
  "language_info": {
   "codemirror_mode": {
    "name": "ipython",
    "version": 3
   },
   "file_extension": ".py",
   "mimetype": "text/x-python",
   "name": "python",
   "nbconvert_exporter": "python",
   "pygments_lexer": "ipython3",
   "version": "3.6.1"
  }
 },
 "nbformat": 4,
 "nbformat_minor": 2
}
