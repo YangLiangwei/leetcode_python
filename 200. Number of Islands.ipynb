{
 "cells": [
  {
   "cell_type": "code",
   "execution_count": null,
   "metadata": {
    "collapsed": true
   },
   "outputs": [],
   "source": [
    "class Solution:\n",
    "    def numIslands(self, grid: List[List[str]]) -> int:\n",
    "        num = 0\n",
    "        for i in range(len(grid)):\n",
    "            for j in range(len(grid[0])):\n",
    "                if grid[i][j] == '1':\n",
    "                    num += 1\n",
    "                    self.change2water(i, j, grid)\n",
    "        return num\n",
    "        \n",
    "    def change2water(self, i, j , grid):\n",
    "        if i < 0 or i == len(grid) or j < 0 or j == len(grid[0]):\n",
    "            pass\n",
    "        elif grid[i][j] == '1':\n",
    "            grid[i][j] = '0'\n",
    "            self.change2water(i - 1, j, grid)\n",
    "            self.change2water(i, j - 1, grid)\n",
    "            self.change2water(i + 1, j, grid)\n",
    "            self.change2water(i, j + 1, grid)"
   ]
  }
 ],
 "metadata": {
  "kernelspec": {
   "display_name": "Python 3",
   "language": "python",
   "name": "python3"
  },
  "language_info": {
   "codemirror_mode": {
    "name": "ipython",
    "version": 3
   },
   "file_extension": ".py",
   "mimetype": "text/x-python",
   "name": "python",
   "nbconvert_exporter": "python",
   "pygments_lexer": "ipython3",
   "version": "3.6.8"
  }
 },
 "nbformat": 4,
 "nbformat_minor": 2
}
