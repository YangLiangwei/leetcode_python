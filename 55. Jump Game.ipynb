{
 "cells": [
  {
   "cell_type": "code",
   "execution_count": null,
   "metadata": {
    "collapsed": true
   },
   "outputs": [],
   "source": [
    "class Solution:\n",
    "    def canJump(self, nums: List[int]) -> bool:\n",
    "        if len(nums) == 1:\n",
    "            return True\n",
    "        if nums[0] == 0:\n",
    "            return False\n",
    "        for i in range(len(nums) - 1):\n",
    "            if nums[i] == 0:\n",
    "                j = i - 1\n",
    "                while j:\n",
    "                    if j + nums[j] > i:\n",
    "                        break\n",
    "                    j -= 1\n",
    "                if j == 0:\n",
    "                    if nums[j] <= i:\n",
    "                        return False\n",
    "                        \n",
    "             \n",
    "            i += 1\n",
    "        return True"
   ]
  }
 ],
 "metadata": {
  "kernelspec": {
   "display_name": "Python 3",
   "language": "python",
   "name": "python3"
  },
  "language_info": {
   "codemirror_mode": {
    "name": "ipython",
    "version": 3
   },
   "file_extension": ".py",
   "mimetype": "text/x-python",
   "name": "python",
   "nbconvert_exporter": "python",
   "pygments_lexer": "ipython3",
   "version": "3.6.8"
  }
 },
 "nbformat": 4,
 "nbformat_minor": 2
}
