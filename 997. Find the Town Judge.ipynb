{
 "cells": [
  {
   "cell_type": "code",
   "execution_count": 2,
   "metadata": {},
   "outputs": [
    {
     "name": "stdout",
     "output_type": "stream",
     "text": [
      "1\n",
      "2\n"
     ]
    }
   ],
   "source": [
    "class Solution(object):\n",
    "    def findJudge(self, N, trust):\n",
    "        \"\"\"\n",
    "        :type N: int\n",
    "        :type trust: List[List[int]]\n",
    "        :rtype: int\n",
    "        \"\"\"\n",
    "        if N  == 0:\n",
    "            return -1\n",
    "        if N == 1:\n",
    "            return 1\n",
    "        dic = {}\n",
    "        dicTrust = {}\n",
    "        for item in trust:\n",
    "            if item[0] not in dicTrust:\n",
    "                dicTrust[item[0]] = 1\n",
    "            try:\n",
    "                dic[item[1]] += 1\n",
    "            except:\n",
    "                dic[item[1]] = 1\n",
    "        for key in dic:\n",
    "            if dic[key] == N - 1 and key not in dicTrust:\n",
    "                return key\n",
    "        return -1"
   ]
  }
 ],
 "metadata": {
  "kernelspec": {
   "display_name": "Python 3",
   "language": "python",
   "name": "python3"
  },
  "language_info": {
   "codemirror_mode": {
    "name": "ipython",
    "version": 3
   },
   "file_extension": ".py",
   "mimetype": "text/x-python",
   "name": "python",
   "nbconvert_exporter": "python",
   "pygments_lexer": "ipython3",
   "version": "3.6.1"
  }
 },
 "nbformat": 4,
 "nbformat_minor": 2
}
