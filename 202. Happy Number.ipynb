{
 "cells": [
  {
   "cell_type": "code",
   "execution_count": null,
   "metadata": {
    "collapsed": true
   },
   "outputs": [],
   "source": [
    "class Solution:\n",
    "    def isHappy(self, n: int) -> bool:\n",
    "        ls = []\n",
    "        while 1:\n",
    "            temporary = 0\n",
    "            while n != 0:\n",
    "                temporary += (n % 10) ** 2\n",
    "                n = n // 10\n",
    "            n = temporary\n",
    "            if n not in ls:\n",
    "                if n == 1:\n",
    "                    return True\n",
    "                else:\n",
    "                    ls.append(n)\n",
    "            else:\n",
    "                return False"
   ]
  }
 ],
 "metadata": {
  "kernelspec": {
   "display_name": "Python 3",
   "language": "python",
   "name": "python3"
  },
  "language_info": {
   "codemirror_mode": {
    "name": "ipython",
    "version": 3
   },
   "file_extension": ".py",
   "mimetype": "text/x-python",
   "name": "python",
   "nbconvert_exporter": "python",
   "pygments_lexer": "ipython3",
   "version": "3.6.8"
  }
 },
 "nbformat": 4,
 "nbformat_minor": 2
}
