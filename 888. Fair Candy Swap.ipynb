{
 "cells": [
  {
   "cell_type": "code",
   "execution_count": null,
   "metadata": {
    "collapsed": true
   },
   "outputs": [],
   "source": [
    "class Solution(object):\n",
    "    def fairCandySwap(self, A, B):\n",
    "        \"\"\"\n",
    "        :type A: List[int]\n",
    "        :type B: List[int]\n",
    "        :rtype: List[int]\n",
    "        \"\"\"\n",
    "        A_need = (sum(A) + sum(B)) / 2 - sum(A)\n",
    "        dic = {}\n",
    "        for bar_B in B:\n",
    "            dic[bar_B] = 1\n",
    "        for bar_A in A:\n",
    "            if bar_A + A_need in dic:\n",
    "                return [bar_A, bar_A + A_need]\n",
    "        return False\n",
    "        "
   ]
  }
 ],
 "metadata": {
  "kernelspec": {
   "display_name": "Python 3",
   "language": "python",
   "name": "python3"
  },
  "language_info": {
   "codemirror_mode": {
    "name": "ipython",
    "version": 3
   },
   "file_extension": ".py",
   "mimetype": "text/x-python",
   "name": "python",
   "nbconvert_exporter": "python",
   "pygments_lexer": "ipython3",
   "version": "3.6.1"
  }
 },
 "nbformat": 4,
 "nbformat_minor": 2
}
