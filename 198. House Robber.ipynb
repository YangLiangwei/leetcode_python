{
 "cells": [
  {
   "cell_type": "code",
   "execution_count": null,
   "metadata": {
    "collapsed": true
   },
   "outputs": [],
   "source": [
    "class Solution:\n",
    "    def rob(self, nums: List[int]) -> int:\n",
    "        result = [0 for i in range(len(nums))]\n",
    "        if len(nums) == 0:\n",
    "            return 0 \n",
    "    \n",
    "        if len(nums) < 3:\n",
    "            return max(nums)\n",
    "        result[0] = nums[0]\n",
    "        result[1] = max(nums[0], nums[1])\n",
    "        for i in range(2, len(nums)):\n",
    "            result[i] = max(result[i - 2] + nums[i], result[i - 1])\n",
    "            print(result)\n",
    "        return result[-1]\n",
    "        "
   ]
  }
 ],
 "metadata": {
  "kernelspec": {
   "display_name": "Python 3",
   "language": "python",
   "name": "python3"
  },
  "language_info": {
   "codemirror_mode": {
    "name": "ipython",
    "version": 3
   },
   "file_extension": ".py",
   "mimetype": "text/x-python",
   "name": "python",
   "nbconvert_exporter": "python",
   "pygments_lexer": "ipython3",
   "version": "3.6.8"
  }
 },
 "nbformat": 4,
 "nbformat_minor": 2
}
