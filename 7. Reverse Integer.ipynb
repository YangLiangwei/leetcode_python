{
 "cells": [
  {
   "cell_type": "code",
   "execution_count": null,
   "metadata": {
    "collapsed": true
   },
   "outputs": [],
   "source": [
    "class Solution:\n",
    "    def reverse(self, x: int) -> int:\n",
    "        flag = 0\n",
    "        if x < 0:\n",
    "            flag = 1\n",
    "            x = x * (-1)\n",
    "        ls = []\n",
    "        while x != 0:\n",
    "            print(x)\n",
    "            ls.append(x % 10)\n",
    "            x = x // 10\n",
    "        result = 0\n",
    "        i = 0\n",
    "        while ls[i] == 0:\n",
    "            print(i)\n",
    "            i += 1\n",
    "        while i < len(ls):\n",
    "            result = result * 10 + ls[i]\n",
    "        if flag == 1:\n",
    "            result = -result\n",
    "        return result\n",
    "            "
   ]
  }
 ],
 "metadata": {
  "kernelspec": {
   "display_name": "Python 3",
   "language": "python",
   "name": "python3"
  },
  "language_info": {
   "codemirror_mode": {
    "name": "ipython",
    "version": 3
   },
   "file_extension": ".py",
   "mimetype": "text/x-python",
   "name": "python",
   "nbconvert_exporter": "python",
   "pygments_lexer": "ipython3",
   "version": "3.6.8"
  }
 },
 "nbformat": 4,
 "nbformat_minor": 2
}
