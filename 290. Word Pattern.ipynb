{
 "cells": [
  {
   "cell_type": "code",
   "execution_count": null,
   "metadata": {
    "collapsed": true
   },
   "outputs": [],
   "source": [
    "class Solution(object):\n",
    "    def wordPattern(self, pattern, str):\n",
    "        \"\"\"\n",
    "        :type pattern: str\n",
    "        :type str: str\n",
    "        :rtype: bool\n",
    "        \"\"\"\n",
    "        dic_pattern = {}\n",
    "        ls_pattern = []\n",
    "        i = 0\n",
    "        for item in pattern:\n",
    "            if item in dic_pattern:\n",
    "                ls_pattern.append(dic_pattern[item])\n",
    "            else:\n",
    "                dic_pattern[item] = i\n",
    "                i += 1\n",
    "                ls_pattern.append(dic_pattern[item])\n",
    "        string = str.split(' ')\n",
    "        dic_str = {}\n",
    "        ls_str = []\n",
    "        i = 0\n",
    "        for item in string:\n",
    "            if item in dic_str:\n",
    "                ls_str.append(dic_str[item])\n",
    "            else:\n",
    "                dic_str[item] = i\n",
    "                i += 1\n",
    "                ls_str.append(dic_str[item])\n",
    "        if ls_pattern == ls_str:\n",
    "            return True\n",
    "        return False"
   ]
  }
 ],
 "metadata": {
  "kernelspec": {
   "display_name": "Python 3",
   "language": "python",
   "name": "python3"
  },
  "language_info": {
   "codemirror_mode": {
    "name": "ipython",
    "version": 3
   },
   "file_extension": ".py",
   "mimetype": "text/x-python",
   "name": "python",
   "nbconvert_exporter": "python",
   "pygments_lexer": "ipython3",
   "version": "3.6.1"
  }
 },
 "nbformat": 4,
 "nbformat_minor": 2
}
