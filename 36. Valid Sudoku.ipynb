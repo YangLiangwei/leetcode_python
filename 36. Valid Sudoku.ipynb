{
 "cells": [
  {
   "cell_type": "code",
   "execution_count": null,
   "metadata": {
    "collapsed": true
   },
   "outputs": [],
   "source": [
    "class Solution:\n",
    "    def isValidSudoku(self, board):\n",
    "        for i in range(0, 9):\n",
    "            if not self.isValidLine(board, i) or not self.isValidRow(board, i) or not self.isValidSquare(board, i):\n",
    "                return False\n",
    "        return True\n",
    "    \n",
    "    def isValidLine(self, board, r):\n",
    "        if len(board[r]) != 9:\n",
    "            return False\n",
    "        ls = [str(i) for i in range(1, 10)]\n",
    "        for num in board[r]:\n",
    "            if num in ls:\n",
    "                ls.remove(num)\n",
    "            else:\n",
    "                if num != '.':\n",
    "                    return False \n",
    "        return True\n",
    "    \n",
    "    def isValidRow(self, board, r):\n",
    "        l = [i[r] for i in board]\n",
    "        if len(board[r]) != 9:\n",
    "            return False\n",
    "        ls = [str(i) for i in range(1, 10)]\n",
    "        for num in l:\n",
    "            if num in ls:\n",
    "                ls.remove(num)\n",
    "            else:\n",
    "                if num != '.':\n",
    "                    return False\n",
    "        return True\n",
    "    def isValidSquare(self, board, i):\n",
    "        r1 = ((3 * i) // 9) * 3\n",
    "        r2 = r1 + 3\n",
    "        c1 = 3 * i % 9\n",
    "        c2 = c1 + 3\n",
    "        ls_n = []\n",
    "        for r in range(r1, r2):\n",
    "            for c in range(c1, c2):\n",
    "                ls_n.append(board[r][c])\n",
    "        if len(board[r]) != 9:\n",
    "            return False\n",
    "        ls = [str(i) for i in range(1, 10)]\n",
    "        for num in ls_n:\n",
    "            if num in ls:\n",
    "                ls.remove(num)\n",
    "            else:\n",
    "                if num != '.':\n",
    "                    \n",
    "                    return False\n",
    "        return True"
   ]
  }
 ],
 "metadata": {
  "kernelspec": {
   "display_name": "Python 3",
   "language": "python",
   "name": "python3"
  },
  "language_info": {
   "codemirror_mode": {
    "name": "ipython",
    "version": 3
   },
   "file_extension": ".py",
   "mimetype": "text/x-python",
   "name": "python",
   "nbconvert_exporter": "python",
   "pygments_lexer": "ipython3",
   "version": "3.6.8"
  }
 },
 "nbformat": 4,
 "nbformat_minor": 2
}
