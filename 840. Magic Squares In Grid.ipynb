{
 "cells": [
  {
   "cell_type": "code",
   "execution_count": null,
   "metadata": {
    "collapsed": true
   },
   "outputs": [],
   "source": [
    "class Solution(object):\n",
    "    def numMagicSquaresInside(self, grid):\n",
    "        \"\"\"\n",
    "        :type grid: List[List[int]]\n",
    "        :rtype: int\n",
    "        \"\"\"\n",
    "        result = 0\n",
    "        for line in range(len(grid) - 2):\n",
    "            for row in range(len(grid[0]) - 2):\n",
    "                ls = []\n",
    "                ls.extend(grid[line][row : row + 3])\n",
    "                ls.extend(grid[line + 1][row : row + 3])\n",
    "                ls.extend(grid[line + 2][row : row + 3])\n",
    "                if self.sequence(ls):\n",
    "                    result += 1\n",
    "        return result\n",
    "    def sequence(self, ls):\n",
    "        if ls[4] != 5:\n",
    "            return False\n",
    "        if len(set(ls)) != 9:\n",
    "            return False\n",
    "        for i in range(1, 10):\n",
    "            if i not in ls:\n",
    "                return False\n",
    "        if sum(ls[0: 3]) == sum(ls[3: 6]) == sum(ls[6: 10]) == ls[0] + ls[3] + ls[6] == ls[1] + ls[4] + ls[7] == ls[2] + ls[5] + ls[8] == ls[0] + 5 + ls[8] == ls[2] + 5 + ls[6] == 15:\n",
    "            return True"
   ]
  }
 ],
 "metadata": {
  "kernelspec": {
   "display_name": "Python 3",
   "language": "python",
   "name": "python3"
  },
  "language_info": {
   "codemirror_mode": {
    "name": "ipython",
    "version": 3
   },
   "file_extension": ".py",
   "mimetype": "text/x-python",
   "name": "python",
   "nbconvert_exporter": "python",
   "pygments_lexer": "ipython3",
   "version": "3.6.1"
  }
 },
 "nbformat": 4,
 "nbformat_minor": 2
}
