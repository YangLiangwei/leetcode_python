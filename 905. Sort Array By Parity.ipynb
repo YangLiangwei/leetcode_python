{
 "cells": [
  {
   "cell_type": "code",
   "execution_count": 6,
   "metadata": {},
   "outputs": [
    {
     "data": {
      "text/plain": [
       "[4, 2, 1, 3]"
      ]
     },
     "execution_count": 6,
     "metadata": {},
     "output_type": "execute_result"
    }
   ],
   "source": [
    "class Solution(object):\n",
    "    def sortArrayByParity(self, A):\n",
    "        \"\"\"\n",
    "        :type A: List[int]\n",
    "        :rtype: List[int]\n",
    "        \"\"\"\n",
    "        pointer1 = 0\n",
    "        pointer2 = len(A) - 1\n",
    "        \n",
    "        while pointer1 < pointer2:\n",
    "            while A[pointer1] % 2 == 0:\n",
    "                pointer1 += 1\n",
    "                if pointer1 >= len(A):\n",
    "                    break\n",
    "            while A[pointer2] % 2 == 1:\n",
    "                pointer2 -= 1\n",
    "                if pointer2 < 0:\n",
    "                    break\n",
    "            if pointer1 < pointer2:  \n",
    "                temp = A[pointer1]\n",
    "                A[pointer1] = A[pointer2]\n",
    "                A[pointer2] = temp\n",
    "        return A\n",
    "    \n",
    "So = Solution()\n",
    "So.sortArrayByParity([3,1,2,4])"
   ]
  }
 ],
 "metadata": {
  "kernelspec": {
   "display_name": "Python 3",
   "language": "python",
   "name": "python3"
  },
  "language_info": {
   "codemirror_mode": {
    "name": "ipython",
    "version": 3
   },
   "file_extension": ".py",
   "mimetype": "text/x-python",
   "name": "python",
   "nbconvert_exporter": "python",
   "pygments_lexer": "ipython3",
   "version": "3.6.1"
  }
 },
 "nbformat": 4,
 "nbformat_minor": 2
}
