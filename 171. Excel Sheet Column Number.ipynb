{
 "cells": [
  {
   "cell_type": "code",
   "execution_count": null,
   "metadata": {
    "collapsed": true
   },
   "outputs": [],
   "source": [
    "class Solution:\n",
    "    def titleToNumber(self, s: str) -> int:\n",
    "        dic = {'A':1, 'B':2, 'C':3, 'D':4, 'E':5, 'F':6, 'G':7\n",
    "              ,'H':8,'I': 9, 'J':10, 'K':11, 'L':12, 'M':13, 'N':14, 'O': 15, 'P':16, 'Q':17, 'R':18, 'S':19, 'T':20, 'U':21, 'V':22, 'W':23,'X':24, 'Y':25, 'Z':26}\n",
    "        result = 0\n",
    "        base = 1\n",
    "        for i in range(len(s)):\n",
    "            result += dic[s[-i - 1]] * base\n",
    "            base *= 26\n",
    "        return result\n",
    "        "
   ]
  }
 ],
 "metadata": {
  "kernelspec": {
   "display_name": "Python 3",
   "language": "python",
   "name": "python3"
  },
  "language_info": {
   "codemirror_mode": {
    "name": "ipython",
    "version": 3
   },
   "file_extension": ".py",
   "mimetype": "text/x-python",
   "name": "python",
   "nbconvert_exporter": "python",
   "pygments_lexer": "ipython3",
   "version": "3.6.8"
  }
 },
 "nbformat": 4,
 "nbformat_minor": 2
}
