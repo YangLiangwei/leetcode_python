{
 "cells": [
  {
   "cell_type": "code",
   "execution_count": 1,
   "metadata": {},
   "outputs": [
    {
     "data": {
      "text/plain": [
       "{0: 4, 2: 3}"
      ]
     },
     "execution_count": 1,
     "metadata": {},
     "output_type": "execute_result"
    }
   ],
   "source": [
    "class Solution(object):\n",
    "    def canPlaceFlowers(self, flowerbed, n):\n",
    "        \"\"\"\n",
    "        :type flowerbed: List[int]\n",
    "        :type n: int\n",
    "        :rtype: bool\n",
    "        \"\"\"\n",
    "        count = 0\n",
    "        if len(flowerbed) == 0:\n",
    "            return False\n",
    "        if len(flowerbed) == 1:\n",
    "            if flowerbed[0] == 0 and n < 2:\n",
    "                return True\n",
    "            else:\n",
    "                if n == 0:\n",
    "                    return True\n",
    "                return False\n",
    "        for i in range(len(flowerbed)):\n",
    "            if flowerbed[i] == 0:\n",
    "                if i == 0:\n",
    "                    if flowerbed[1] == 0:\n",
    "                        flowerbed[0] = 1\n",
    "                        count += 1\n",
    "                elif i == len(flowerbed) - 1:\n",
    "                    if flowerbed[-2] == 0:\n",
    "                        flowerbed[-1] = 1\n",
    "                        count += 1\n",
    "                else:\n",
    "                    if flowerbed[i + 1] == flowerbed[i - 1] == 0:\n",
    "                        count += 1\n",
    "                        flowerbed[i] = 1\n",
    "        if count >= n:\n",
    "            return True\n",
    "        return False"
   ]
  }
 ],
 "metadata": {
  "kernelspec": {
   "display_name": "Python 3",
   "language": "python",
   "name": "python3"
  },
  "language_info": {
   "codemirror_mode": {
    "name": "ipython",
    "version": 3
   },
   "file_extension": ".py",
   "mimetype": "text/x-python",
   "name": "python",
   "nbconvert_exporter": "python",
   "pygments_lexer": "ipython3",
   "version": "3.6.1"
  }
 },
 "nbformat": 4,
 "nbformat_minor": 2
}
