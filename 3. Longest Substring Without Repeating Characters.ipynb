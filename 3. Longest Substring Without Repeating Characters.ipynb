{
 "cells": [
  {
   "cell_type": "code",
   "execution_count": null,
   "metadata": {
    "collapsed": true
   },
   "outputs": [],
   "source": [
    "class Solution:\n",
    "    def lengthOfLongestSubstring(self, s: str) -> int:\n",
    "        result = 0\n",
    "        i = 0\n",
    "        while i < len(s):\n",
    "            dic = {}\n",
    "            j = i\n",
    "            flag = 1\n",
    "            if j < len(s):\n",
    "                while s[j] not in dic:\n",
    "                    dic[s[j]] = j\n",
    "                    j += 1\n",
    "                    if j == len(s):\n",
    "                        flag = 0\n",
    "                        break\n",
    "            result = max(result, len(dic))\n",
    "            if flag == 1:\n",
    "                i = dic[s[j]] + 1\n",
    "            else:\n",
    "                i += 1\n",
    "          \n",
    "        return result"
   ]
  }
 ],
 "metadata": {
  "kernelspec": {
   "display_name": "Python 3",
   "language": "python",
   "name": "python3"
  },
  "language_info": {
   "codemirror_mode": {
    "name": "ipython",
    "version": 3
   },
   "file_extension": ".py",
   "mimetype": "text/x-python",
   "name": "python",
   "nbconvert_exporter": "python",
   "pygments_lexer": "ipython3",
   "version": "3.6.8"
  }
 },
 "nbformat": 4,
 "nbformat_minor": 2
}
