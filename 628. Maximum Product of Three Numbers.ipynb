{
 "cells": [
  {
   "cell_type": "code",
   "execution_count": null,
   "metadata": {
    "collapsed": true
   },
   "outputs": [],
   "source": [
    "class Solution:\n",
    "    def maximumProduct(self, nums: List[int]) -> int:\n",
    "        ls = self.quicksort(nums)\n",
    "        return max(ls[-1] * ls[-2] * ls[-3], ls[-1] * ls[0] * ls[1])\n",
    "        \n",
    "        \n",
    "        \n",
    "    def quicksort(self, ls):\n",
    "        if len(ls) < 2:\n",
    "            return ls\n",
    "        mid = ls.pop()\n",
    "        small = []\n",
    "        big = []\n",
    "        for item in ls:\n",
    "            if item <= mid:\n",
    "                small.append(item)\n",
    "            else:\n",
    "                big.append(item)\n",
    "        return self.quicksort(small) + [mid] + self.quicksort(big)"
   ]
  }
 ],
 "metadata": {
  "kernelspec": {
   "display_name": "Python 3",
   "language": "python",
   "name": "python3"
  },
  "language_info": {
   "codemirror_mode": {
    "name": "ipython",
    "version": 3
   },
   "file_extension": ".py",
   "mimetype": "text/x-python",
   "name": "python",
   "nbconvert_exporter": "python",
   "pygments_lexer": "ipython3",
   "version": "3.6.8"
  }
 },
 "nbformat": 4,
 "nbformat_minor": 2
}
