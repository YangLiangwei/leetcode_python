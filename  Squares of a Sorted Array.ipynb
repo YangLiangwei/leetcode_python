{
 "cells": [
  {
   "cell_type": "code",
   "execution_count": null,
   "metadata": {
    "collapsed": true
   },
   "outputs": [],
   "source": [
    "class Solution:\n",
    "    def sortedSquares(self, A):\n",
    "        if A[0] >= 0:\n",
    "            return [x**2 for x in A]\n",
    "        elif A[-1] <= 0:\n",
    "            return [A[i]**2 for i in range(-1, -len(A)- 1, -1)]\n",
    "        else:\n",
    "            i = 0\n",
    "        while A[i] < 0:\n",
    "            i += 1\n",
    "        left = A[: i]\n",
    "        right = A[i: ]\n",
    "        left = [left[i] ** 2 for i in range(-1, -len(left) - 1, -1)]\n",
    "        right = [x ** 2 for x in right]\n",
    "        print(right)\n",
    "        print(left)\n",
    "        result = []\n",
    "        i = 0\n",
    "        j = 0\n",
    "        while i < len(left) and j < len(right):\n",
    "            if left[i] < right[j]:\n",
    "                result.append(left[i])\n",
    "                i += 1\n",
    "            else:\n",
    "                result.append(right[j])\n",
    "                j += 1\n",
    "        if i == len(left):\n",
    "            result.extend(right[j:])\n",
    "            \n",
    "        if j == len(right):\n",
    "            result.extend(left[i:])\n",
    "            \n",
    "        return result"
   ]
  }
 ],
 "metadata": {
  "kernelspec": {
   "display_name": "Python 3",
   "language": "python",
   "name": "python3"
  },
  "language_info": {
   "codemirror_mode": {
    "name": "ipython",
    "version": 3
   },
   "file_extension": ".py",
   "mimetype": "text/x-python",
   "name": "python",
   "nbconvert_exporter": "python",
   "pygments_lexer": "ipython3",
   "version": "3.6.8"
  }
 },
 "nbformat": 4,
 "nbformat_minor": 2
}
