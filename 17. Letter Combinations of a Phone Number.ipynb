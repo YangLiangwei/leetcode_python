{
 "cells": [
  {
   "cell_type": "code",
   "execution_count": null,
   "metadata": {
    "collapsed": true
   },
   "outputs": [],
   "source": [
    "class Solution:\n",
    "    def letterCombinations(self, digits: str) -> List[str]:\n",
    "        if len(digits) == 0:\n",
    "            return []\n",
    "        dic = {2:['a', 'b', 'c'], 3:['d', 'e', 'f'], 4:['g','h','i'], 5:['j', 'k', 'l'], 6:['m', 'n', 'o'],\n",
    "              7:['p', 'q', 'r', 's'], 8:['t', 'u', 'v'], 9:['w', 'x', 'y', 'z']}\n",
    "        ls = dic[int(digits[0])]\n",
    "        if len(digits) == 1:\n",
    "            return ls\n",
    "        for d in digits[1:]:\n",
    "            d = int(d)\n",
    "            ls_new = []\n",
    "            for element in ls:\n",
    "                for element_new in dic[d]:\n",
    "                    ls_new.append(element + element_new)\n",
    "            ls = ls_new\n",
    "        return ls"
   ]
  }
 ],
 "metadata": {
  "kernelspec": {
   "display_name": "Python 3",
   "language": "python",
   "name": "python3"
  },
  "language_info": {
   "codemirror_mode": {
    "name": "ipython",
    "version": 3
   },
   "file_extension": ".py",
   "mimetype": "text/x-python",
   "name": "python",
   "nbconvert_exporter": "python",
   "pygments_lexer": "ipython3",
   "version": "3.6.8"
  }
 },
 "nbformat": 4,
 "nbformat_minor": 2
}
