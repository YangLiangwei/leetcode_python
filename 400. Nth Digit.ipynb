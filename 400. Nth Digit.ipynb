{
 "cells": [
  {
   "cell_type": "code",
   "execution_count": null,
   "metadata": {
    "collapsed": true
   },
   "outputs": [],
   "source": [
    "class Solution:\n",
    "    def findNthDigit(self, n: int) -> int:\n",
    "        compare = 0\n",
    "        i = 1\n",
    "        while compare < n:\n",
    "            compare += 9 * 10**(i - 1) * i\n",
    "            i += 1\n",
    "        i -= 1\n",
    "        compare -= 9 * 10**(i - 1) * i\n",
    "        n  = n - compare - 1\n",
    "        wei = n % i\n",
    "        geshu = n // i\n",
    "        location = 10 ** (i - 1) + geshu\n",
    "        return int(str(location)[wei])"
   ]
  }
 ],
 "metadata": {
  "kernelspec": {
   "display_name": "Python 3",
   "language": "python",
   "name": "python3"
  },
  "language_info": {
   "codemirror_mode": {
    "name": "ipython",
    "version": 3
   },
   "file_extension": ".py",
   "mimetype": "text/x-python",
   "name": "python",
   "nbconvert_exporter": "python",
   "pygments_lexer": "ipython3",
   "version": "3.6.8"
  }
 },
 "nbformat": 4,
 "nbformat_minor": 2
}
