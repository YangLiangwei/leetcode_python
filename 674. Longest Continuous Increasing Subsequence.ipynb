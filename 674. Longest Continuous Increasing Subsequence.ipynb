{
 "cells": [
  {
   "cell_type": "code",
   "execution_count": 5,
   "metadata": {},
   "outputs": [
    {
     "data": {
      "text/plain": [
       "4"
      ]
     },
     "execution_count": 5,
     "metadata": {},
     "output_type": "execute_result"
    }
   ],
   "source": [
    "class Solution(object):\n",
    "    def findLengthOfLCIS(self, nums):\n",
    "        \"\"\"\n",
    "        :type nums: List[int]\n",
    "        :rtype: int\n",
    "        \"\"\"\n",
    "        if nums == []:\n",
    "            return 0\n",
    "        LengthMax = 1\n",
    "        Length = 1\n",
    "        i = 0\n",
    "        while i < len(nums) - 1:\n",
    "            if nums[i] < nums[i + 1]:\n",
    "                i += 1\n",
    "                Length += 1\n",
    "                LengthMax = max(Length, LengthMax)\n",
    "            else:\n",
    "                LengthMax = max(Length, LengthMax)\n",
    "                Length = 1\n",
    "                i += 1\n",
    "        return LengthMax"
   ]
  }
 ],
 "metadata": {
  "kernelspec": {
   "display_name": "Python 3",
   "language": "python",
   "name": "python3"
  },
  "language_info": {
   "codemirror_mode": {
    "name": "ipython",
    "version": 3
   },
   "file_extension": ".py",
   "mimetype": "text/x-python",
   "name": "python",
   "nbconvert_exporter": "python",
   "pygments_lexer": "ipython3",
   "version": "3.6.1"
  }
 },
 "nbformat": 4,
 "nbformat_minor": 2
}
