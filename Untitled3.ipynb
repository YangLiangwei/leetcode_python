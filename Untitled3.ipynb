{
 "cells": [
  {
   "cell_type": "code",
   "execution_count": 15,
   "metadata": {},
   "outputs": [
    {
     "data": {
      "text/plain": [
       "True"
      ]
     },
     "execution_count": 15,
     "metadata": {},
     "output_type": "execute_result"
    }
   ],
   "source": [
    "class Solution:\n",
    "    def IsPopOrder(self, pushV, popV):\n",
    "        # write code here\n",
    "        stack = []\n",
    "        i = 0\n",
    "        for num in popV:\n",
    "            if num not in pushV:\n",
    "                return False\n",
    "            try:\n",
    "                if num == stack[-1]:\n",
    "                    stack.pop()\n",
    "                    continue\n",
    "            except:\n",
    "                pass\n",
    "            if num not in pushV[i:]:\n",
    "                return False\n",
    "            while pushV[i] != num:\n",
    "                stack.append(pushV[i])\n",
    "                i += 1\n",
    "            i += 1\n",
    "        return True\n",
    "so = Solution()\n",
    "so.IsPopOrder([1,2,3,4,5],[4,5,3,2,1])"
   ]
  }
 ],
 "metadata": {
  "kernelspec": {
   "display_name": "Python 3",
   "language": "python",
   "name": "python3"
  },
  "language_info": {
   "codemirror_mode": {
    "name": "ipython",
    "version": 3
   },
   "file_extension": ".py",
   "mimetype": "text/x-python",
   "name": "python",
   "nbconvert_exporter": "python",
   "pygments_lexer": "ipython3",
   "version": "3.6.1"
  }
 },
 "nbformat": 4,
 "nbformat_minor": 2
}
