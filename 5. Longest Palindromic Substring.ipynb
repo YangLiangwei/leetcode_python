{
 "cells": [
  {
   "cell_type": "code",
   "execution_count": null,
   "metadata": {
    "collapsed": true
   },
   "outputs": [],
   "source": [
    "class Solution:\n",
    "    def longestPalindrome(self, s: str) -> str:\n",
    "        matrix = [[0 for i in s] for i in s]\n",
    "        for j in range(len(s)):\n",
    "            for i in range(0, j + 1):\n",
    "                if i == j:\n",
    "                    matrix[i][j] = 1\n",
    "                elif j - i == 1:\n",
    "                    if s[i] == s[j]:\n",
    "                        matrix[i][j] = 1\n",
    "                elif s[i] == s[j]:\n",
    "                    matrix[i][j] = matrix[i + 1][j - 1]\n",
    "        result_i = 0\n",
    "        result_j = 0\n",
    "        length = 0\n",
    "        for i in range(len(s)):\n",
    "            for j in range(i, len(s)):\n",
    "                if matrix[i][j] == 1:\n",
    "                    if j - i > length:\n",
    "                        length = j - i\n",
    "                        result_i = i\n",
    "                        result_j = j\n",
    "        return s[result_i:result_j + 1]"
   ]
  }
 ],
 "metadata": {
  "kernelspec": {
   "display_name": "Python 3",
   "language": "python",
   "name": "python3"
  },
  "language_info": {
   "codemirror_mode": {
    "name": "ipython",
    "version": 3
   },
   "file_extension": ".py",
   "mimetype": "text/x-python",
   "name": "python",
   "nbconvert_exporter": "python",
   "pygments_lexer": "ipython3",
   "version": "3.6.8"
  }
 },
 "nbformat": 4,
 "nbformat_minor": 2
}
