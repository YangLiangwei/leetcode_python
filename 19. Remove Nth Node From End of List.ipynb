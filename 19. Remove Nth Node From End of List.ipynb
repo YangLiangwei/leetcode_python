{
 "cells": [
  {
   "cell_type": "code",
   "execution_count": null,
   "metadata": {
    "collapsed": true
   },
   "outputs": [],
   "source": [
    "# Definition for singly-linked list.\n",
    "# class ListNode:\n",
    "#     def __init__(self, x):\n",
    "#         self.val = x\n",
    "#         self.next = None\n",
    "\n",
    "class Solution:\n",
    "    def removeNthFromEnd(self, head: ListNode, n: int) -> ListNode:\n",
    "        if head.next == None:\n",
    "            return None\n",
    "        length = 0\n",
    "        CurrentNode = head\n",
    "        while CurrentNode:\n",
    "            length += 1\n",
    "            CurrentNode = CurrentNode.next\n",
    "        CurrentNode = head\n",
    "        i = length - n - 1\n",
    "        if i < 0:\n",
    "            head = head.next\n",
    "            return head\n",
    "        while i:\n",
    "            CurrentNode = CurrentNode.next\n",
    "            i -= 1\n",
    "        CurrentNode.next = CurrentNode.next.next\n",
    "        return head"
   ]
  }
 ],
 "metadata": {
  "kernelspec": {
   "display_name": "Python 3",
   "language": "python",
   "name": "python3"
  },
  "language_info": {
   "codemirror_mode": {
    "name": "ipython",
    "version": 3
   },
   "file_extension": ".py",
   "mimetype": "text/x-python",
   "name": "python",
   "nbconvert_exporter": "python",
   "pygments_lexer": "ipython3",
   "version": "3.6.8"
  }
 },
 "nbformat": 4,
 "nbformat_minor": 2
}
