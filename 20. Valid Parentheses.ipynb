{
 "cells": [
  {
   "cell_type": "code",
   "execution_count": null,
   "metadata": {
    "collapsed": true
   },
   "outputs": [],
   "source": [
    "class Solution:\n",
    "    def isValid(self, s: str) -> bool:\n",
    "        mapping = {')':'(', '}':'{', ']':'['}\n",
    "        ls = []\n",
    "        for ch in s:\n",
    "            if ch in mapping:\n",
    "                if len(ls) == 0:\n",
    "                    return False\n",
    "                if ls[-1] == mapping[ch]:\n",
    "                    ls.pop()\n",
    "                else:\n",
    "                    return False\n",
    "            else: ls.append(ch)\n",
    "        if len(ls) == 0:\n",
    "            return True\n",
    "        else:\n",
    "            return False\n",
    "            "
   ]
  }
 ],
 "metadata": {
  "kernelspec": {
   "display_name": "Python 3",
   "language": "python",
   "name": "python3"
  },
  "language_info": {
   "codemirror_mode": {
    "name": "ipython",
    "version": 3
   },
   "file_extension": ".py",
   "mimetype": "text/x-python",
   "name": "python",
   "nbconvert_exporter": "python",
   "pygments_lexer": "ipython3",
   "version": "3.6.8"
  }
 },
 "nbformat": 4,
 "nbformat_minor": 2
}
