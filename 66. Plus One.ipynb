{
 "cells": [
  {
   "cell_type": "code",
   "execution_count": null,
   "metadata": {
    "collapsed": true
   },
   "outputs": [],
   "source": [
    "class Solution:\n",
    "    def plusOne(self, digits: List[int]) -> List[int]:\n",
    "        overFlow = (digits[-1] + 1) // 10\n",
    "        digits[-1] = (digits[-1] + 1) % 10\n",
    "        for i in range(len(digits) - 1):\n",
    "            print(i)\n",
    "            over = (digits[-i - 2] + overFlow) // 10\n",
    "            digits[-i - 2] = (digits[-i - 2] + overFlow) % 10\n",
    "            overFlow = over\n",
    "            \n",
    "            if overFlow != 1:\n",
    "                return digits\n",
    "\n",
    "        if overFlow == 1:\n",
    "            result = [1]\n",
    "            result.extend(digits)\n",
    "            return result\n",
    "        else:\n",
    "            return digits"
   ]
  }
 ],
 "metadata": {
  "kernelspec": {
   "display_name": "Python 3",
   "language": "python",
   "name": "python3"
  },
  "language_info": {
   "codemirror_mode": {
    "name": "ipython",
    "version": 3
   },
   "file_extension": ".py",
   "mimetype": "text/x-python",
   "name": "python",
   "nbconvert_exporter": "python",
   "pygments_lexer": "ipython3",
   "version": "3.6.8"
  }
 },
 "nbformat": 4,
 "nbformat_minor": 2
}
