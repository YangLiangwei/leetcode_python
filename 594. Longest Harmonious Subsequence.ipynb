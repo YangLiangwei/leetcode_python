{
 "cells": [
  {
   "cell_type": "code",
   "execution_count": null,
   "metadata": {
    "collapsed": true
   },
   "outputs": [],
   "source": [
    "class Solution:\n",
    "    def findLHS(self, nums: List[int]) -> int:\n",
    "        result = 0\n",
    "        dic = {}\n",
    "        for item in nums:\n",
    "            try:\n",
    "                dic[item] += 1\n",
    "            except:\n",
    "                dic[item] = 1\n",
    "        nums_set = set(nums)\n",
    "        for item in nums_set:\n",
    "            try:\n",
    "                if dic[item] + dic[item + 1] > result:\n",
    "                    result = dic[item] + dic[item + 1]\n",
    "            except:\n",
    "                pass\n",
    "        return result"
   ]
  }
 ],
 "metadata": {
  "kernelspec": {
   "display_name": "Python 3",
   "language": "python",
   "name": "python3"
  },
  "language_info": {
   "codemirror_mode": {
    "name": "ipython",
    "version": 3
   },
   "file_extension": ".py",
   "mimetype": "text/x-python",
   "name": "python",
   "nbconvert_exporter": "python",
   "pygments_lexer": "ipython3",
   "version": "3.6.8"
  }
 },
 "nbformat": 4,
 "nbformat_minor": 2
}
