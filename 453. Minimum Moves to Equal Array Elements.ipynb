{
 "cells": [
  {
   "cell_type": "code",
   "execution_count": 3,
   "metadata": {},
   "outputs": [
    {
     "name": "stdout",
     "output_type": "stream",
     "text": [
      "[15, 21, 35, 49, 77, 83, 86, 86, 92, 93]\n"
     ]
    },
    {
     "data": {
      "text/plain": [
       "487"
      ]
     },
     "execution_count": 3,
     "metadata": {},
     "output_type": "execute_result"
    }
   ],
   "source": [
    "class Solution:\n",
    "    def minMoves(self, nums: List[int]) -> int:\n",
    "        nums.sort()\n",
    "        result = 0\n",
    "        for i in range(len(nums) - 1):\n",
    "            result += (nums[i+ 1] - nums[i]) * (len(nums) - i - 1)\n",
    "        return result"
   ]
  }
 ],
 "metadata": {
  "kernelspec": {
   "display_name": "Python 3",
   "language": "python",
   "name": "python3"
  },
  "language_info": {
   "codemirror_mode": {
    "name": "ipython",
    "version": 3
   },
   "file_extension": ".py",
   "mimetype": "text/x-python",
   "name": "python",
   "nbconvert_exporter": "python",
   "pygments_lexer": "ipython3",
   "version": "3.6.8"
  }
 },
 "nbformat": 4,
 "nbformat_minor": 2
}
