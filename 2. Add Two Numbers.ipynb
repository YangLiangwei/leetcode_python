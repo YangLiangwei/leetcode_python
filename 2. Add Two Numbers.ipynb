{
 "cells": [
  {
   "cell_type": "code",
   "execution_count": null,
   "metadata": {
    "collapsed": true
   },
   "outputs": [],
   "source": [
    "# Definition for singly-linked list.\n",
    "# class ListNode:\n",
    "#     def __init__(self, x):\n",
    "#         self.val = x\n",
    "#         self.next = None\n",
    "\n",
    "class Solution:\n",
    "    def addTwoNumbers(self, l1: ListNode, l2: ListNode) -> ListNode:\n",
    "        ValCurrent = l1.val + l2.val\n",
    "        overFlow = ValCurrent // 10\n",
    "        prevNode = answerNode = ListNode(ValCurrent % 10)\n",
    "        l1 = l1.next\n",
    "        l2 = l2.next\n",
    "        while l1 is not None and l2 is not None:\n",
    "            ValCurrent = l1.val + l2.val + overFlow\n",
    "            overFlow = ValCurrent // 10\n",
    "            prevNode.next = ListNode(ValCurrent % 10)\n",
    "            prevNode = prevNode.next\n",
    "            l1 = l1.next\n",
    "            l2 = l2.next\n",
    "        nextNode = None\n",
    "        if l1 != None: \n",
    "            nextNode = l1\n",
    "        if l2 != None: \n",
    "            nextNode = l2\n",
    "        \n",
    "        while overFlow != 0 and nextNode is not None:\n",
    "            ValCurrent = nextNode.val + 1\n",
    "            overFlow = ValCurrent // 10\n",
    "            prevNode.next = ListNode(ValCurrent % 10)\n",
    "            prevNode = prevNode.next\n",
    "            nextNode = nextNode.next\n",
    "            \n",
    "        if overFlow != 0 and nextNode is None:\n",
    "            prevNode.next = ListNode(overFlow)\n",
    "            \n",
    "        if overFlow == 0 and nextNode is not None:\n",
    "            prevNode.next = nextNode\n",
    "     \n",
    "        return answerNode"
   ]
  }
 ],
 "metadata": {
  "kernelspec": {
   "display_name": "Python 3",
   "language": "python",
   "name": "python3"
  },
  "language_info": {
   "codemirror_mode": {
    "name": "ipython",
    "version": 3
   },
   "file_extension": ".py",
   "mimetype": "text/x-python",
   "name": "python",
   "nbconvert_exporter": "python",
   "pygments_lexer": "ipython3",
   "version": "3.6.8"
  }
 },
 "nbformat": 4,
 "nbformat_minor": 2
}
