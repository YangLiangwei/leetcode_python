{
 "cells": [
  {
   "cell_type": "code",
   "execution_count": null,
   "metadata": {
    "collapsed": true
   },
   "outputs": [],
   "source": [
    "class Solution(object):\n",
    "    def isIsomorphic(self, s, t):\n",
    "        \"\"\"\n",
    "        :type s: str\n",
    "        :type t: str\n",
    "        :rtype: bool\n",
    "        \"\"\"\n",
    "        dic_s = {}\n",
    "        dic_t = {}\n",
    "        ls_s = []\n",
    "        ls_t = []\n",
    "        i = 0\n",
    "        for item in s:\n",
    "            if item in dic_s:\n",
    "                ls_s.append(dic_s[item])\n",
    "            else:\n",
    "                dic_s[item] = i\n",
    "                i += 1\n",
    "                ls_s.append(dic_s[item])\n",
    "        i = 0\n",
    "        for item in t:\n",
    "            if item in dic_t:\n",
    "                ls_t.append(dic_t[item])\n",
    "            else:\n",
    "                dic_t[item] = i\n",
    "                i += 1\n",
    "                ls_t.append(dic_t[item])\n",
    "        if ls_s == ls_t:\n",
    "            return True\n",
    "        return False"
   ]
  }
 ],
 "metadata": {
  "kernelspec": {
   "display_name": "Python 3",
   "language": "python",
   "name": "python3"
  },
  "language_info": {
   "codemirror_mode": {
    "name": "ipython",
    "version": 3
   },
   "file_extension": ".py",
   "mimetype": "text/x-python",
   "name": "python",
   "nbconvert_exporter": "python",
   "pygments_lexer": "ipython3",
   "version": "3.6.1"
  }
 },
 "nbformat": 4,
 "nbformat_minor": 2
}
