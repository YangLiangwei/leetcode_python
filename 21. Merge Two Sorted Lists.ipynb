{
 "cells": [
  {
   "cell_type": "code",
   "execution_count": null,
   "metadata": {
    "collapsed": true
   },
   "outputs": [],
   "source": [
    "# Definition for singly-linked list.\n",
    "# class ListNode:\n",
    "#     def __init__(self, x):\n",
    "#         self.val = x\n",
    "#         self.next = None\n",
    "\n",
    "class Solution:\n",
    "    def mergeTwoLists(self, l1: ListNode, l2: ListNode) -> ListNode:\n",
    "        if l2 == None:\n",
    "            return l1\n",
    "        if l1 == None:\n",
    "            return l2\n",
    "        if l1.val < l2.val:\n",
    "            ListNew = CurrentNode = ListNode(l1.val)\n",
    "            l1 = l1.next\n",
    "        else:\n",
    "            ListNew = CurrentNode = ListNode(l2.val)\n",
    "            l2 = l2.next\n",
    "        while l1 != None and l2 != None:\n",
    "            if l1.val < l2.val:\n",
    "                CurrentNode.next = ListNode(l1.val)\n",
    "                l1 = l1.next\n",
    "            else:\n",
    "                CurrentNode.next = ListNode(l2.val)\n",
    "                l2 = l2.next\n",
    "            CurrentNode = CurrentNode.next\n",
    "        if l1 != None:\n",
    "            CurrentNode.next = l1\n",
    "        if l2 != None:\n",
    "            CurrentNode.next = l2\n",
    "        return ListNew"
   ]
  }
 ],
 "metadata": {
  "kernelspec": {
   "display_name": "Python 3",
   "language": "python",
   "name": "python3"
  },
  "language_info": {
   "codemirror_mode": {
    "name": "ipython",
    "version": 3
   },
   "file_extension": ".py",
   "mimetype": "text/x-python",
   "name": "python",
   "nbconvert_exporter": "python",
   "pygments_lexer": "ipython3",
   "version": "3.6.8"
  }
 },
 "nbformat": 4,
 "nbformat_minor": 2
}
