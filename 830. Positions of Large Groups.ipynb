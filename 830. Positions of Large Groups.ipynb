{
 "cells": [
  {
   "cell_type": "code",
   "execution_count": null,
   "metadata": {
    "collapsed": true
   },
   "outputs": [],
   "source": [
    "class Solution(object):\n",
    "    def largeGroupPositions(self, S):\n",
    "        \"\"\"\n",
    "        :type S: str\n",
    "        :rtype: List[List[int]]\n",
    "        \"\"\"\n",
    "        res = []\n",
    "        temp = S[0]\n",
    "        count = 1\n",
    "        for i in range(1, len(S)):\n",
    "            if S[i] == temp:\n",
    "                count += 1\n",
    "            else:\n",
    "                if count >= 3:\n",
    "                    res.append([i - count,i - 1])\n",
    "                temp = S[i]\n",
    "                count = 1\n",
    "        if count >= 3:\n",
    "            res.append([len(S) - count, len(S) - 1])\n",
    "        return res"
   ]
  }
 ],
 "metadata": {
  "kernelspec": {
   "display_name": "Python 3",
   "language": "python",
   "name": "python3"
  },
  "language_info": {
   "codemirror_mode": {
    "name": "ipython",
    "version": 3
   },
   "file_extension": ".py",
   "mimetype": "text/x-python",
   "name": "python",
   "nbconvert_exporter": "python",
   "pygments_lexer": "ipython3",
   "version": "3.6.1"
  }
 },
 "nbformat": 4,
 "nbformat_minor": 2
}
